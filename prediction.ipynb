{
 "cells": [
  {
   "cell_type": "code",
   "execution_count": 1,
   "id": "2fdcaa3d",
   "metadata": {},
   "outputs": [
    {
     "name": "stderr",
     "output_type": "stream",
     "text": [
      "/home/hafizh/miniconda3/envs/MainCuda/lib/python3.12/site-packages/tqdm/auto.py:21: TqdmWarning: IProgress not found. Please update jupyter and ipywidgets. See https://ipywidgets.readthedocs.io/en/stable/user_install.html\n",
      "  from .autonotebook import tqdm as notebook_tqdm\n"
     ]
    }
   ],
   "source": [
    "import gradio as gr\n",
    "import pickle"
   ]
  },
  {
   "cell_type": "code",
   "execution_count": 2,
   "id": "e95835fd",
   "metadata": {},
   "outputs": [],
   "source": [
    "with open(f\"./model/model.pkl\", \"rb\") as f:\n",
    "    model = pickle.load(f)"
   ]
  },
  {
   "cell_type": "code",
   "execution_count": null,
   "id": "01e209b4",
   "metadata": {},
   "outputs": [
    {
     "data": {
      "text/plain": [
       "array(['Curricular_units_2nd_sem_enrolled', 'Scholarship_holder',\n",
       "       'Curricular_units_2nd_sem_approved',\n",
       "       'Curricular_units_2nd_sem_credited', 'Tuition_fees_up_to_date',\n",
       "       'Curricular_units_2nd_sem_evaluations', 'Gender',\n",
       "       'Admission_grade', 'Age_at_enrollment',\n",
       "       'Curricular_units_2nd_sem_without_evaluations',\n",
       "       'Mothers_occupation', 'GDP'], dtype='<U44')"
      ]
     },
     "execution_count": 5,
     "metadata": {},
     "output_type": "execute_result"
    }
   ],
   "source": [
    "def get_yes_no_question(yes_no):\n",
    "    yes_no_mapping = {\n",
    "        \"No\" : 0,\n",
    "        \"Yes\" : 1\n",
    "    }\n",
    "    return yes_no_mapping.get(yes_no, -1)\n",
    "\n",
    "def get_gender(gender):\n",
    "    gender_mapping = {\n",
    "        \"Female\" : 0,\n",
    "        \"Male\" : 1\n",
    "    }\n",
    "    return gender_mapping.get(gender, -1)\n",
    "\n",
    "def get_mother_occupation(mother):\n",
    "    mother_occupation_mapping = {\n",
    "        \"Student\" : 0,\n",
    "        \"Specialists in Intellectual and Scientific Activities\" : 2,\n",
    "        \"Intermediate Level Technicians and Professions\" : 3,\n",
    "        \"Administrative Staff\" : 4,\n",
    "        \"Personal Services, Security and Safety Workers and Sellers\" : 5,\n",
    "        \"Skilled Workers in Industry, Construction and Craftsmen\" : 7,\n",
    "        \"Unskilled Workers\" : 9, \n",
    "        \"Other\" : 999\n",
    "    }\n",
    "    return mother_occupation_mapping.get(mother, -1)\n",
    "\n",
    "def predict_status(_sem_enrolled, _scholarship_holder, _sem_approved, _sem_credited, \n",
    "                _tuition_fees, _sem_evaluations, _gender, _admission_grade, \n",
    "                _age, _sem_without_evaluations, _mothers_occupation, _gdp):\n",
    "    scholarship_holder = get_yes_no_question(_scholarship_holder)\n",
    "    tuition_fees = get_yes_no_question(_tuition_fees)\n",
    "    gender = get_gender(_gender)\n",
    "    mothers_occupation = get_mother_occupation(_mothers_occupation)\n",
    "    data = [[_sem_enrolled, scholarship_holder, _sem_approved, _sem_credited,\n",
    "             tuition_fees, _sem_evaluations, gender, _admission_grade,\n",
    "             _age, _sem_without_evaluations, mothers_occupation, _gdp]]\n",
    "    prediction = model.predict(data)#[0]\n",
    "    # prediction_proba = model.predict_proba(data)[0][prediction]\n",
    "    return prediction"
   ]
  },
  {
   "cell_type": "code",
   "execution_count": null,
   "id": "0720fc0c",
   "metadata": {},
   "outputs": [],
   "source": [
    "with gr.Blocks(title=\"Student Performance Prediction\") as demo:\n",
    "    gr.Markdown(\"\"\"\n",
    "                # 🎒 Student Performance Prediction\n",
    "                # Dicoding - Solving Educational Institution Problem\n",
    "                ## Made by : Muhammad Hafizh Dzaki\n",
    "                ## Gihub Repo : [Here](https://github.com/hfzdzakii/Dicoding-SolvingEducationIntsituteProblem)\n",
    "                \"\"\")\n",
    "    with gr.Row():\n",
    "        with gr.Column():\n",
    "            gr.Markdown(\"### Input Variables\")\n",
    "            sem_enrolled = gr.Number(label=\"Sum of 2nd Semester Curricular Units Enrolled:\",\n",
    "                                     value=0, minimum=0, maximum=24)\n",
    "            sem_approved = gr.Number(label=\"Sum of 2nd Semester Curricular Units Approved:\",\n",
    "                                     value=0, minimum=0, maximum=24)\n",
    "            sem_credited = gr.Number(label=\"Sum of 2nd Semester Curricular Units Credited:\",\n",
    "                                     value=0, minimum=0, maximum=24)\n",
    "            sem_evaluations = gr.Number(label=\"Sum of 2nd Semester Curricular Units Evalutions:\",\n",
    "                                        value=0, minimum=0)\n",
    "            sem_without_evaluations = gr.Number(label=\"Sum of 2nd Semester Curricular Units Without Evalutions:\",\n",
    "                                                value=0, minimum=0)\n",
    "            scholarship_holder = gr.Radio(label=\"Scholarship Holder?\",\n",
    "                                          choices=[\"No\", \"Yes\"], value=\"No\")\n",
    "            tuition_fees = gr.Radio(label=\"Tuition Fees Payed?\",\n",
    "                                    choices=[\"No\", \"Yes\"], value=\"No\")\n",
    "            gender = gr.Radio(label=\"Gender:\", \n",
    "                              choices=[\"Male\", \"Female\"], value=\"Male\")\n",
    "            admission_grade = gr.Number(label=\"Admission Grade:\",\n",
    "                                        value=0, minimum=0, maximum=200)\n",
    "            age = gr.Number(label=\"Admission Grade:\",\n",
    "                            value=0, minimum=18)\n",
    "            mothers_occupation = gr.Dropdown(label=\"Mother Occupation:\",\n",
    "                                             choices=[\"Student\", \"Specialists in Intellectual and Scientific Activities\", \"Intermediate Level Technicians and Professions\",\n",
    "                                                      \"Administrative Staff\", \"Personal Services, Security and Safety Workers and Sellers\",\n",
    "                                                      \"Skilled Workers in Industry, Construction and Craftsmen\", \"Unskilled Workers\", \"Other\"],\n",
    "                                             value=\"Student\")\n",
    "            gdp = gr.Number(label=\"Gross Domestic Product (GDP):\",\n",
    "                            value=0)\n",
    "            \n",
    "        with gr.Column():\n",
    "            gr.Markdown(\"\"\"### Example Data\n",
    "                        Choose one from list below to fill input immediately!\n",
    "                        \"\"\")\n",
    "            \n",
    "            gr.Markdown(\"### Predict and Result\")\n",
    "            predict_button = gr.Button(label=\"Predict\", variant=\"primary\")\n",
    "            prediction = gr.Textbox(label=\"Prediction\", interactive=False)\n",
    "            \n",
    "    predict_button.click(\n",
    "        fn=predict_status,\n",
    "        inputs=[sem_enrolled, scholarship_holder,\n",
    "                sem_approved,\n",
    "                sem_credited, tuition_fees,\n",
    "                sem_evaluations, gender,\n",
    "                admission_grade, age,\n",
    "                sem_without_evaluations,\n",
    "                mothers_occupation, gdp],\n",
    "        outputs=prediction,\n",
    "    )\n",
    "            "
   ]
  }
 ],
 "metadata": {
  "kernelspec": {
   "display_name": "MainCuda",
   "language": "python",
   "name": "python3"
  },
  "language_info": {
   "codemirror_mode": {
    "name": "ipython",
    "version": 3
   },
   "file_extension": ".py",
   "mimetype": "text/x-python",
   "name": "python",
   "nbconvert_exporter": "python",
   "pygments_lexer": "ipython3",
   "version": "3.12.9"
  }
 },
 "nbformat": 4,
 "nbformat_minor": 5
}
