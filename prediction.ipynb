{
 "cells": [
  {
   "cell_type": "code",
   "execution_count": 25,
   "id": "2fdcaa3d",
   "metadata": {},
   "outputs": [],
   "source": [
    "import gradio as gr\n",
    "import pickle"
   ]
  },
  {
   "cell_type": "code",
   "execution_count": 26,
   "id": "e95835fd",
   "metadata": {},
   "outputs": [],
   "source": [
    "with open(f\"./model/model.pkl\", \"rb\") as f:\n",
    "    model = pickle.load(f)"
   ]
  },
  {
   "cell_type": "code",
   "execution_count": null,
   "id": "01e209b4",
   "metadata": {},
   "outputs": [],
   "source": [
    "def get_yes_no_question(yes_no):\n",
    "    yes_no_mapping = {\n",
    "        \"No\" : 0,\n",
    "        \"Yes\" : 1\n",
    "    }\n",
    "    return yes_no_mapping.get(yes_no, -1)\n",
    "\n",
    "def get_gender(gender):\n",
    "    gender_mapping = {\n",
    "        \"Female\" : 0,\n",
    "        \"Male\" : 1\n",
    "    }\n",
    "    return gender_mapping.get(gender, -1)\n",
    "\n",
    "def get_mother_occupation(mother):\n",
    "    mother_occupation_mapping = {\n",
    "        \"Student\" : 0,\n",
    "        \"Specialists in Intellectual and Scientific Activities\" : 2,\n",
    "        \"Intermediate Level Technicians and Professions\" : 3,\n",
    "        \"Administrative Staff\" : 4,\n",
    "        \"Personal Services, Security and Safety Workers and Sellers\" : 5,\n",
    "        \"Skilled Workers in Industry, Construction and Craftsmen\" : 7,\n",
    "        \"Unskilled Workers\" : 9, \n",
    "        \"Other\" : 999\n",
    "    }\n",
    "    return mother_occupation_mapping.get(mother, -1)\n",
    "\n",
    "status = {\n",
    "    0 : \"Dropout\",\n",
    "    1 : \"Enrolled\",\n",
    "    2 : \"Graduate\"\n",
    "}\n",
    "\n",
    "def predict_status(_sem_enrolled, _scholarship_holder, _sem_approved, _sem_credited, \n",
    "                _tuition_fees, _sem_evaluations, _gender, _admission_grade, \n",
    "                _age, _sem_without_evaluations, _mothers_occupation, _gdp):\n",
    "    scholarship_holder = get_yes_no_question(_scholarship_holder)\n",
    "    tuition_fees = get_yes_no_question(_tuition_fees)\n",
    "    gender = get_gender(_gender)\n",
    "    mothers_occupation = get_mother_occupation(_mothers_occupation)\n",
    "    data = [[_sem_enrolled, scholarship_holder, _sem_approved, _sem_credited,\n",
    "             tuition_fees, _sem_evaluations, gender, _admission_grade,\n",
    "             _age, _sem_without_evaluations, mothers_occupation, _gdp]]\n",
    "    prediction = model.predict(data)[0]\n",
    "    prediction_proba = model.predict_proba(data)[0][prediction]\n",
    "    if prediction == 0:\n",
    "        return f\"The student might {status[prediction]}, model confidence is {prediction_proba:.2f}\"\n",
    "    if prediction == 1:\n",
    "        return f\"The student is still {status[prediction]}, model confidence is {prediction_proba:.2f}\"\n",
    "    if prediction == 2:\n",
    "        return f\"The student should {status[prediction]}, model confidence is {prediction_proba:.2f}\""
   ]
  },
  {
   "cell_type": "code",
   "execution_count": 28,
   "id": "0720fc0c",
   "metadata": {},
   "outputs": [
    {
     "name": "stdout",
     "output_type": "stream",
     "text": [
      "* Running on local URL:  http://127.0.0.1:7860\n",
      "\n",
      "To create a public link, set `share=True` in `launch()`.\n"
     ]
    },
    {
     "data": {
      "text/html": [
       "<div><iframe src=\"http://127.0.0.1:7860/\" width=\"100%\" height=\"500\" allow=\"autoplay; camera; microphone; clipboard-read; clipboard-write;\" frameborder=\"0\" allowfullscreen></iframe></div>"
      ],
      "text/plain": [
       "<IPython.core.display.HTML object>"
      ]
     },
     "metadata": {},
     "output_type": "display_data"
    },
    {
     "name": "stdout",
     "output_type": "stream",
     "text": [
      "Keyboard interruption in main thread... closing server.\n"
     ]
    },
    {
     "data": {
      "text/plain": []
     },
     "execution_count": 28,
     "metadata": {},
     "output_type": "execute_result"
    }
   ],
   "source": [
    "with gr.Blocks(title=\"Student Status Prediction\") as demo:\n",
    "    gr.Markdown(\"\"\"\n",
    "                # 🎒 Student Status Prediction\n",
    "                # Dicoding - Solving Educational Institution Problem\n",
    "                ## Made by : Muhammad Hafizh Dzaki\n",
    "                ## Gihub Repo : [Here](https://github.com/hfzdzakii/Dicoding-SolvingEducationIntsituteProblem)\n",
    "                \"\"\")\n",
    "    with gr.Row():\n",
    "        with gr.Column():\n",
    "            gr.Markdown(\"### Input Variables\")\n",
    "            sem_enrolled = gr.Number(label=\"Sum of 2nd Semester Curricular Units Enrolled:\",\n",
    "                                     value=0, minimum=0, maximum=24)\n",
    "            sem_approved = gr.Number(label=\"Sum of 2nd Semester Curricular Units Approved:\",\n",
    "                                     value=0, minimum=0, maximum=24)\n",
    "            sem_credited = gr.Number(label=\"Sum of 2nd Semester Curricular Units Credited:\",\n",
    "                                     value=0, minimum=0, maximum=24)\n",
    "            sem_evaluations = gr.Number(label=\"Sum of 2nd Semester Curricular Units Evalutions:\",\n",
    "                                        value=0, minimum=0)\n",
    "            sem_without_evaluations = gr.Number(label=\"Sum of 2nd Semester Curricular Units Without Evalutions:\",\n",
    "                                                value=0, minimum=0)\n",
    "            scholarship_holder = gr.Radio(label=\"Scholarship Holder?\",\n",
    "                                          choices=[\"No\", \"Yes\"], value=\"No\")\n",
    "            tuition_fees = gr.Radio(label=\"Tuition Fees Payed?\",\n",
    "                                    choices=[\"No\", \"Yes\"], value=\"No\")\n",
    "            gender = gr.Radio(label=\"Gender:\", \n",
    "                              choices=[\"Male\", \"Female\"], value=\"Male\")\n",
    "            admission_grade = gr.Number(label=\"Admission Grade:\",\n",
    "                                        value=0, minimum=0, maximum=200)\n",
    "            age = gr.Number(label=\"Age:\",\n",
    "                            value=18, minimum=18)\n",
    "            mothers_occupation = gr.Dropdown(label=\"Mother Occupation:\",\n",
    "                                             choices=[\"Student\", \"Specialists in Intellectual and Scientific Activities\", \"Intermediate Level Technicians and Professions\",\n",
    "                                                      \"Administrative Staff\", \"Personal Services, Security and Safety Workers and Sellers\",\n",
    "                                                      \"Skilled Workers in Industry, Construction and Craftsmen\", \"Unskilled Workers\", \"Other\"],\n",
    "                                             value=\"Student\")\n",
    "            gdp = gr.Number(label=\"Gross Domestic Product (GDP):\",\n",
    "                            value=0)\n",
    "            \n",
    "        with gr.Column():\n",
    "            gr.Markdown(\"\"\"### Example Data\n",
    "                        Choose one from list below to fill input immediately!\n",
    "                        \"\"\")\n",
    "            gr.Examples(\n",
    "                examples=[\n",
    "                    [6, \"No\", 5, 0, \"No\", 13, \"Female\", 120, 21, 1, \"Unskilled Workers\", -4.06],\n",
    "                    [5, \"No\", 0, 0, \"Yes\", 0, \"Male\", 121, 19, 0, \"Personal Services, Security and Safety Workers and Sellers\", 1.79],\n",
    "                    [7, \"No\", 6, 2, \"Yes\", 10, \"Female\", 100, 37, 0, \"Other\", 0.79],\n",
    "                    [5, \"No\", 3, 0, \"Yes\", 9, \"Female\", 120, 18, 0, 'Administrative Staff', -1.7],\n",
    "                    [6, \"Yes\", 6, 0, \"Yes\", 6, 'Female', 142, 18, 0, \"Personal Services, Security and Safety Workers and Sellers\", -3.12],\n",
    "                    [6, \"Yes\", 6, 2, \"Yes\", 6, \"Female\", 137, 23, 0, \"Administrative Staff\", 1.79]\n",
    "                ],\n",
    "                inputs=[sem_enrolled, scholarship_holder, sem_approved,\n",
    "                         sem_credited, tuition_fees, sem_evaluations, gender,\n",
    "                         admission_grade, age, sem_without_evaluations, mothers_occupation,\n",
    "                         gdp]\n",
    "            )\n",
    "            \n",
    "            gr.Markdown(\"### Predict and Result\")\n",
    "            predict_button = gr.Button(\"Predict\", variant=\"primary\")\n",
    "            prediction = gr.Textbox(label=\"Prediction\", interactive=False)\n",
    "            \n",
    "    predict_button.click(\n",
    "        fn=predict_status,\n",
    "        inputs=[sem_enrolled, scholarship_holder,\n",
    "                sem_approved,\n",
    "                sem_credited, tuition_fees,\n",
    "                sem_evaluations, gender,\n",
    "                admission_grade, age,\n",
    "                sem_without_evaluations,\n",
    "                mothers_occupation, gdp],\n",
    "        outputs=prediction,\n",
    "    )\n",
    "\n",
    "demo.launch(debug=True)"
   ]
  }
 ],
 "metadata": {
  "kernelspec": {
   "display_name": "MainCuda",
   "language": "python",
   "name": "python3"
  },
  "language_info": {
   "codemirror_mode": {
    "name": "ipython",
    "version": 3
   },
   "file_extension": ".py",
   "mimetype": "text/x-python",
   "name": "python",
   "nbconvert_exporter": "python",
   "pygments_lexer": "ipython3",
   "version": "3.12.9"
  }
 },
 "nbformat": 4,
 "nbformat_minor": 5
}
