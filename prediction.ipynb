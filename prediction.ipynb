{
 "cells": [
  {
   "cell_type": "code",
   "execution_count": 6,
   "id": "2fdcaa3d",
   "metadata": {},
   "outputs": [],
   "source": [
    "import gradio as gr\n",
    "import pickle"
   ]
  },
  {
   "cell_type": "code",
   "execution_count": 7,
   "id": "e95835fd",
   "metadata": {},
   "outputs": [],
   "source": [
    "with open(f\"./model/model.pkl\", \"rb\") as f:\n",
    "    model = pickle.load(f)"
   ]
  },
  {
   "cell_type": "code",
   "execution_count": 8,
   "id": "01e209b4",
   "metadata": {},
   "outputs": [],
   "source": [
    "def get_yes_no_question(yes_no):\n",
    "    yes_no_mapping = {\n",
    "        \"No\" : 0,\n",
    "        \"Yes\" : 1\n",
    "    }\n",
    "    return yes_no_mapping.get(yes_no, -1)\n",
    "\n",
    "def get_gender(gender):\n",
    "    gender_mapping = {\n",
    "        \"Female\" : 0,\n",
    "        \"Male\" : 1\n",
    "    }\n",
    "    return gender_mapping.get(gender, -1)\n",
    "\n",
    "status = {\n",
    "    0 : \"Dropout\",\n",
    "    1 : \"Graduate\"\n",
    "}\n",
    "\n",
    "def predict_status(_sem_enrolled, _scholarship_holder, _sem_approved, _sem_credited, \n",
    "                _tuition_fees, _sem_evaluations, _gender, _debt):\n",
    "    scholarship_holder = get_yes_no_question(_scholarship_holder)\n",
    "    tuition_fees = get_yes_no_question(_tuition_fees)\n",
    "    gender = get_gender(_gender)\n",
    "    debt = get_yes_no_question(_debt)\n",
    "    data = [[debt, _sem_approved, _sem_evaluations, _sem_credited, \n",
    "             _sem_enrolled, scholarship_holder, \n",
    "             tuition_fees, gender]]\n",
    "    prediction = model.predict(data)[0]\n",
    "    prediction_proba = model.predict_proba(data)[0][prediction]\n",
    "    if prediction == 0:\n",
    "        return f\"The student might {status[prediction]}, model confidence is {prediction_proba:.2f}\"\n",
    "    if prediction == 1:\n",
    "        return f\"The student should {status[prediction]}, model confidence is {prediction_proba:.2f}\""
   ]
  },
  {
   "cell_type": "code",
   "execution_count": 9,
   "id": "0720fc0c",
   "metadata": {},
   "outputs": [
    {
     "name": "stdout",
     "output_type": "stream",
     "text": [
      "* Running on local URL:  http://127.0.0.1:7860\n",
      "\n",
      "To create a public link, set `share=True` in `launch()`.\n"
     ]
    },
    {
     "data": {
      "text/html": [
       "<div><iframe src=\"http://127.0.0.1:7860/\" width=\"100%\" height=\"500\" allow=\"autoplay; camera; microphone; clipboard-read; clipboard-write;\" frameborder=\"0\" allowfullscreen></iframe></div>"
      ],
      "text/plain": [
       "<IPython.core.display.HTML object>"
      ]
     },
     "metadata": {},
     "output_type": "display_data"
    },
    {
     "name": "stdout",
     "output_type": "stream",
     "text": [
      "Keyboard interruption in main thread... closing server.\n"
     ]
    },
    {
     "data": {
      "text/plain": []
     },
     "execution_count": 9,
     "metadata": {},
     "output_type": "execute_result"
    }
   ],
   "source": [
    "with gr.Blocks(title=\"Student Status Prediction\") as demo:\n",
    "    gr.Markdown(\"\"\"\n",
    "                # 🎒 Student Status Prediction\n",
    "                # Dicoding - Solving Educational Institution Problem\n",
    "                ## Made by : Muhammad Hafizh Dzaki\n",
    "                ## Gihub Repo : [Here](https://github.com/hfzdzakii/Dicoding-SolvingEducationIntsituteProblem)\n",
    "                \"\"\")\n",
    "    with gr.Row():\n",
    "        with gr.Column():\n",
    "            gr.Markdown(\"### Input Variables\")\n",
    "            sem_approved = gr.Number(label=\"Sum of 2nd Semester Curricular Units Approved:\",\n",
    "                                     value=0, minimum=0, maximum=24)\n",
    "            sem_evaluations = gr.Number(label=\"Sum of 2nd Semester Curricular Units Evalutions:\",\n",
    "                                        value=0, minimum=0)\n",
    "            sem_credited = gr.Number(label=\"Sum of 2nd Semester Curricular Units Credited:\",\n",
    "                                     value=0, minimum=0, maximum=24)\n",
    "            sem_enrolled = gr.Number(label=\"Sum of 2nd Semester Curricular Units Enrolled:\",\n",
    "                                     value=0, minimum=0, maximum=24)\n",
    "            debt = gr.Radio(label=\"Having Debt?\",\n",
    "                            choices=[\"No\", \"Yes\"], value=\"No\")\n",
    "            scholarship_holder = gr.Radio(label=\"Scholarship Holder?\",\n",
    "                                          choices=[\"No\", \"Yes\"], value=\"No\")\n",
    "            tuition_fees = gr.Radio(label=\"Tuition Fees Payed?\",\n",
    "                                    choices=[\"No\", \"Yes\"], value=\"No\")\n",
    "            gender = gr.Radio(label=\"Gender:\", \n",
    "                              choices=[\"Male\", \"Female\"], value=\"Male\")\n",
    "            \n",
    "        with gr.Column():\n",
    "            gr.Markdown(\"\"\"### Example Data\n",
    "                        Choose one from list below to fill input immediately!\n",
    "                        \"\"\")\n",
    "            gr.Examples(\n",
    "                examples=[\n",
    "                    [6, \"No\", 5, 0, \"Yes\", 13, \"Female\", \"Yes\"],\n",
    "                    [5, \"No\", 0, 0, \"Yes\", 0, \"Male\", \"No\"],\n",
    "                    [7, \"No\", 6, 2, \"Yes\", 10, \"Female\", \"Yes\"],\n",
    "                    [5, \"Yes\", 3, 0, \"No\", 9, \"Female\", \"No\"],\n",
    "                    [6, \"Yes\", 6, 0, \"No\", 6, 'Female', \"Yes\"],\n",
    "                    [6, \"Yes\", 6, 2, \"No\", 6, \"Female\", \"No\"]\n",
    "                ],\n",
    "                inputs=[sem_enrolled, scholarship_holder, sem_approved,\n",
    "                         sem_credited, tuition_fees, sem_evaluations, gender,\n",
    "                         debt]\n",
    "            )\n",
    "            \n",
    "            gr.Markdown(\"### Predict and Result\")\n",
    "            predict_button = gr.Button(\"Predict\", variant=\"primary\")\n",
    "            prediction = gr.Textbox(label=\"Prediction\", interactive=False)\n",
    "            \n",
    "    predict_button.click(\n",
    "        fn=predict_status,\n",
    "        inputs=[sem_enrolled, scholarship_holder,\n",
    "                sem_approved,\n",
    "                sem_credited, tuition_fees,\n",
    "                sem_evaluations, gender, debt],\n",
    "        outputs=prediction,\n",
    "    )\n",
    "\n",
    "demo.launch(debug=True)"
   ]
  }
 ],
 "metadata": {
  "kernelspec": {
   "display_name": "MainCuda",
   "language": "python",
   "name": "python3"
  },
  "language_info": {
   "codemirror_mode": {
    "name": "ipython",
    "version": 3
   },
   "file_extension": ".py",
   "mimetype": "text/x-python",
   "name": "python",
   "nbconvert_exporter": "python",
   "pygments_lexer": "ipython3",
   "version": "3.12.9"
  }
 },
 "nbformat": 4,
 "nbformat_minor": 5
}
